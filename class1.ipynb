{
 "cells": [
  {
   "cell_type": "markdown",
   "metadata": {},
   "source": [
    "# Question #01\n",
    " **Add two numbers**\n",
    "\n",
    "   Write a Python program that takes two integer inputs from the user and calculates their sum. The program should perform the following tasks:\n",
    "\n",
    "   1. Prompt the user to enter the first number.\n",
    "   2. Read the input and convert it to an integer.\n",
    "   3. Prompt the user to enter the second number.\n",
    "   4. Read the input and convert it to an integer.\n",
    "   5. Calculate the sum of the two numbers.\n",
    "\n",
    "   Print the total sum with an appropriate message."
   ]
  },
  {
   "cell_type": "code",
   "execution_count": 3,
   "metadata": {},
   "outputs": [
    {
     "name": "stdout",
     "output_type": "stream",
     "text": [
      "The sum of 7 and 8 is: 15\n"
     ]
    }
   ],
   "source": [
    "\n",
    "num1 = input(\"Enter the first number: \")\n",
    "num1 = int(num1)\n",
    "\n",
    "num2 = input(\"Enter the second number: \")\n",
    "num2 = int(num2)\n",
    "\n",
    "total_sum = num1 + num2\n",
    "print(f\"The sum of {num1} and {num2} is: {total_sum}\")\n"
   ]
  },
  {
   "cell_type": "markdown",
   "metadata": {},
   "source": [
    "# Question #02\n",
    "**Agreement Boot**\n",
    "\n",
    "   Write a program which asks the user what their favorite animal is, and then always responds with \"My favorite animal is also \\_\\_\\_!\" (the blank should be filled in with the user-inputted animal, of course).\n",
    "\n",
    "   Here's a sample run of the program (user input is in bold italics - note the space between the prompt and the user input!):\n",
    "\n",
    "   ```\n",
    "   What's your favorite animal? cow\n",
    "\n",
    "   My favorite animal is also cow!"
   ]
  },
  {
   "cell_type": "code",
   "execution_count": 9,
   "metadata": {},
   "outputs": [
    {
     "name": "stdout",
     "output_type": "stream",
     "text": [
      "My favorite animal is also cow!\n"
     ]
    }
   ],
   "source": [
    "fav_animal = input(\"What's your favourite animal\")\n",
    "fav_animal = str(fav_animal)\n",
    "print(f\"My favorite animal is also {fav_animal}!\")"
   ]
  },
  {
   "cell_type": "markdown",
   "metadata": {},
   "source": [
    "# Question #03\n",
    "\n",
    "**Fahrenheit to Celsius**\n",
    "   Write a program which prompts the user for a temperature in Fahrenheit (this can be a number with decimal places!) and outputs the temperature converted to Celsius.\n",
    "\n",
    "   The Celsius scale is widely used to measure temperature, but places still use Fahrenheit. Fahrenheit is another unit for temperature, but the scale is different from Celsius -- for example, 0 degrees Celsius is 32 degrees Fahrenheit!\n",
    "\n",
    "   The equation you should use for converting from Fahrenheit to Celsius is the following:\n",
    "\n",
    "   degrees_celsius = (degrees_fahrenheit - 32) \\* 5.0/9.0\n",
    "\n",
    "   (Note. The .0 after the 5 and 9 matters in the line above!!!)\n",
    "\n",
    "   Here's a sample run of the program (user input is in bold italics):\n",
    "\n",
    "   ```\n",
    "   Enter temperature in Fahrenheit: 76\n",
    "\n",
    "   Temperature: 76.0F = 24.444444444444443C"
   ]
  },
  {
   "cell_type": "code",
   "execution_count": 15,
   "metadata": {},
   "outputs": [
    {
     "name": "stdout",
     "output_type": "stream",
     "text": [
      "Temperature: 76.0F = 24.444444444444443C\n"
     ]
    }
   ],
   "source": [
    "\n",
    "degrees_fahrenheit = float(input(\"Enter temperature in Fahrenheit: \"))\n",
    "degrees_celsius = (degrees_fahrenheit - 32) * 5.0 / 9.0\n",
    "print(f\"Temperature: {degrees_fahrenheit}F = {degrees_celsius}C\")\n",
    "\n"
   ]
  },
  {
   "cell_type": "markdown",
   "metadata": {},
   "source": [
    "# Question #04\n",
    " **Triangle Perimeters**\n",
    "   Prompt the user to enter the lengths of each side of a triangle and then calculate and print the perimeter of the triangle (the sum of all of the side lengths).\n",
    "\n",
    "   Here's a sample run of the program (user input is in bold italics):\n",
    "\n",
    "   ```\n",
    "   What is the length of side 1? 3\n",
    "\n",
    "   What is the length of side 2? 4\n",
    "\n",
    "   What is the length of side 3? 5.5\n",
    "\n",
    "   The perimeter of the triangle is 12.5\n",
    "   ```\n"
   ]
  },
  {
   "cell_type": "code",
   "execution_count": 16,
   "metadata": {},
   "outputs": [
    {
     "name": "stdout",
     "output_type": "stream",
     "text": [
      "The perimeter of the triangle is 12.5\n"
     ]
    }
   ],
   "source": [
    "\n",
    "side1 = float(input(\"What is the length of side 1? \"))\n",
    "side2 = float(input(\"What is the length of side 2? \"))\n",
    "side3 = float(input(\"What is the length of side 3? \"))\n",
    "\n",
    "\n",
    "perimeter = side1 + side2 + side3\n",
    "print(f\"The perimeter of the triangle is {perimeter}\")\n"
   ]
  },
  {
   "cell_type": "markdown",
   "metadata": {},
   "source": [
    "# Question #05\n",
    "**Square Number**\n",
    "   Ask the user for a number and print its square (the product of the number times itself).\n",
    "\n",
    "   Here's a sample run of the program (user input is in bold italics):\n",
    "\n",
    "   ```\n",
    "   Type a number to see its square: 4\n",
    "\n",
    "   4.0 squared is 16.0\n",
    "   ```"
   ]
  },
  {
   "cell_type": "code",
   "execution_count": 18,
   "metadata": {},
   "outputs": [
    {
     "name": "stdout",
     "output_type": "stream",
     "text": [
      "4.0 squared is 16.0\n"
     ]
    }
   ],
   "source": [
    "number = float(input(\"Type a number to see its square: \"))\n",
    "square = number ** 2\n",
    "print(f\"{number} squared is {square}\")\n"
   ]
  },
  {
   "cell_type": "markdown",
   "metadata": {},
   "source": [
    "# Question #06\n",
    "**Delete a number**\n",
    "   Consider a list named `numbers` with the elements `[1, 2, 3, 4, 5]`. Use list method to delete the number 3?\n"
   ]
  },
  {
   "cell_type": "code",
   "execution_count": 23,
   "metadata": {},
   "outputs": [
    {
     "name": "stdout",
     "output_type": "stream",
     "text": [
      "[1, 2, 4, 5]\n"
     ]
    }
   ],
   "source": [
    "list = [1,2,3,4,5]\n",
    "list.remove(3)\n",
    "print(list)"
   ]
  },
  {
   "cell_type": "markdown",
   "metadata": {},
   "source": [
    "# Question #07\n",
    "**Creating a list**\n",
    "   You have two lists:\n",
    "\n",
    "   - list1 with elements [1, 2, 3]\n",
    "   - list2 with elements [4, 5, 6].\n",
    "   - Create a program using list method to add the elements of list2 to list1.\n"
   ]
  },
  {
   "cell_type": "code",
   "execution_count": 25,
   "metadata": {},
   "outputs": [
    {
     "name": "stdout",
     "output_type": "stream",
     "text": [
      "[1, 2, 3, 4, 5, 6]\n"
     ]
    }
   ],
   "source": [
    "list1 = [1,2,3]\n",
    "list2 = [4,5,6]\n",
    "list = list1.__add__(list2)\n",
    "print(list)"
   ]
  },
  {
   "cell_type": "markdown",
   "metadata": {},
   "source": [
    "# Question #08\n",
    "**Pop method**\n",
    "   You have a list named items with the elements `[10, 20, 30, 40]`. If you use the `pop` method without any arguments, what will the list look like and what value will be removed?"
   ]
  },
  {
   "cell_type": "code",
   "execution_count": 26,
   "metadata": {},
   "outputs": [
    {
     "name": "stdout",
     "output_type": "stream",
     "text": [
      "[10, 20, 30]\n"
     ]
    }
   ],
   "source": [
    "list = [10,20,30,40]\n",
    "list.pop()\n",
    "print(list)"
   ]
  },
  {
   "cell_type": "markdown",
   "metadata": {},
   "source": [
    "# Question #09\n",
    "**Index Method**\n",
    "   You have a list called colors with the elements `['red', 'blue', 'green', 'yellow']`. If you use the index method to find the position of 'green', what will the index be?\n"
   ]
  },
  {
   "cell_type": "code",
   "execution_count": 30,
   "metadata": {},
   "outputs": [
    {
     "name": "stdout",
     "output_type": "stream",
     "text": [
      "2\n"
     ]
    }
   ],
   "source": [
    "colors_list = [\"red\", \"blue\", \"green\", \"yellow\"]\n",
    "index = colors_list.index(\"green\")\n",
    "print(index)"
   ]
  },
  {
   "cell_type": "markdown",
   "metadata": {},
   "source": [
    "# Question #10\n",
    " **Get last element**\n",
    "    Fill out the function `get_last_element(lst)` which takes in a list lst as a parameter and prints the last element in the list. The list is guaranteed to be non-empty, but there are no guarantees on its length."
   ]
  },
  {
   "cell_type": "code",
   "execution_count": 31,
   "metadata": {},
   "outputs": [
    {
     "name": "stdout",
     "output_type": "stream",
     "text": [
      "5\n"
     ]
    }
   ],
   "source": [
    "def get_last_element(lst):\n",
    "    last_element = lst[-1]\n",
    "    \n",
    "    print(last_element)\n",
    "\n",
    "my_list = [1, 2, 3, 4, 5]\n",
    "\n",
    "get_last_element(my_list)\n"
   ]
  },
  {
   "cell_type": "markdown",
   "metadata": {},
   "source": [
    "# Question #11\n",
    " **Get a List**\n",
    "    Write a program which continuously asks the user to enter values which are added one by one into a list. When the user presses enter without typing anything, print the list.\n",
    "\n",
    "    Here's a sample run (user input is in blue):\n",
    "\n",
    "    ```\n",
    "    Enter a value: 1\n",
    "    Enter a value: 2\n",
    "    Enter a value: 3\n",
    "    Enter a value:\n",
    "    Here's the list: ['1', '2', '3']"
   ]
  },
  {
   "cell_type": "code",
   "execution_count": 32,
   "metadata": {},
   "outputs": [
    {
     "name": "stdout",
     "output_type": "stream",
     "text": [
      "['1', '2', '3']\n"
     ]
    }
   ],
   "source": [
    "num1 = input(\"Enter a value:\")\n",
    "num2 = input(\"Enter a value:\")\n",
    "num3 = input(\"Enter a value:\")\n",
    "list = [num1,num2,num3]\n",
    "print(list)"
   ]
  }
 ],
 "metadata": {
  "kernelspec": {
   "display_name": "base",
   "language": "python",
   "name": "python3"
  },
  "language_info": {
   "codemirror_mode": {
    "name": "ipython",
    "version": 3
   },
   "file_extension": ".py",
   "mimetype": "text/x-python",
   "name": "python",
   "nbconvert_exporter": "python",
   "pygments_lexer": "ipython3",
   "version": "3.11.6"
  }
 },
 "nbformat": 4,
 "nbformat_minor": 2
}
